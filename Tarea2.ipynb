{
 "cells": [
  {
   "cell_type": "markdown",
   "id": "3245b9be-c029-4824-ad46-5851cdc0aa85",
   "metadata": {},
   "source": [
    "# Tarea 2"
   ]
  },
  {
   "cell_type": "markdown",
   "id": "a86a597e-eeaa-47c1-92c1-10c82104e26e",
   "metadata": {},
   "source": [
    "### Autor: Esthefany Mafla"
   ]
  },
  {
   "cell_type": "markdown",
   "id": "b07964e1-a2bd-42b5-b2b2-bef094d8bebc",
   "metadata": {},
   "source": [
    "### Librerias"
   ]
  },
  {
   "cell_type": "code",
   "execution_count": 2,
   "id": "0d2bb33e-c112-4a2c-9e51-70f58e7add81",
   "metadata": {
    "tags": []
   },
   "outputs": [],
   "source": [
    "import numpy as np\n",
    "import pandas as pd"
   ]
  },
  {
   "cell_type": "markdown",
   "id": "0d31f667-6eef-475f-9e5d-9626592ac2b8",
   "metadata": {},
   "source": [
    "### Datos sobre la felicidad"
   ]
  },
  {
   "cell_type": "code",
   "execution_count": 7,
   "id": "46e77c5c-d75c-46aa-8d70-13a5e02e3bbc",
   "metadata": {
    "tags": []
   },
   "outputs": [
    {
     "data": {
      "text/html": [
       "<div>\n",
       "<style scoped>\n",
       "    .dataframe tbody tr th:only-of-type {\n",
       "        vertical-align: middle;\n",
       "    }\n",
       "\n",
       "    .dataframe tbody tr th {\n",
       "        vertical-align: top;\n",
       "    }\n",
       "\n",
       "    .dataframe thead th {\n",
       "        text-align: right;\n",
       "    }\n",
       "</style>\n",
       "<table border=\"1\" class=\"dataframe\">\n",
       "  <thead>\n",
       "    <tr style=\"text-align: right;\">\n",
       "      <th></th>\n",
       "      <th>pais</th>\n",
       "      <th>anio</th>\n",
       "      <th>escalera_vida</th>\n",
       "      <th>log_pib</th>\n",
       "      <th>soporte_social</th>\n",
       "      <th>expectativa_vida</th>\n",
       "      <th>libertad</th>\n",
       "      <th>generosidad</th>\n",
       "      <th>percepcion_corrupcion</th>\n",
       "      <th>afecto_positivo</th>\n",
       "      <th>afecto_negativo</th>\n",
       "      <th>confianza</th>\n",
       "      <th>calidad_democracia</th>\n",
       "      <th>calidad_entrega</th>\n",
       "      <th>de_escalera_pais_anio</th>\n",
       "      <th>gini_banco_mundial</th>\n",
       "      <th>gini_banco_mundial_promedio</th>\n",
       "    </tr>\n",
       "  </thead>\n",
       "  <tbody>\n",
       "    <tr>\n",
       "      <th>0</th>\n",
       "      <td>Afghanistán</td>\n",
       "      <td>2008</td>\n",
       "      <td>3.723590</td>\n",
       "      <td>7.168690</td>\n",
       "      <td>0.450662</td>\n",
       "      <td>50.799999</td>\n",
       "      <td>0.718114</td>\n",
       "      <td>0.177889</td>\n",
       "      <td>0.881686</td>\n",
       "      <td>0.517637</td>\n",
       "      <td>0.258195</td>\n",
       "      <td>0.612072</td>\n",
       "      <td>-1.929690</td>\n",
       "      <td>-1.655084</td>\n",
       "      <td>1.774662</td>\n",
       "      <td>NaN</td>\n",
       "      <td>NaN</td>\n",
       "    </tr>\n",
       "    <tr>\n",
       "      <th>1</th>\n",
       "      <td>Afghanistán</td>\n",
       "      <td>2009</td>\n",
       "      <td>4.401778</td>\n",
       "      <td>7.333790</td>\n",
       "      <td>0.552308</td>\n",
       "      <td>51.200001</td>\n",
       "      <td>0.678896</td>\n",
       "      <td>0.200178</td>\n",
       "      <td>0.850035</td>\n",
       "      <td>0.583926</td>\n",
       "      <td>0.237092</td>\n",
       "      <td>0.611545</td>\n",
       "      <td>-2.044093</td>\n",
       "      <td>-1.635025</td>\n",
       "      <td>1.722688</td>\n",
       "      <td>NaN</td>\n",
       "      <td>NaN</td>\n",
       "    </tr>\n",
       "    <tr>\n",
       "      <th>2</th>\n",
       "      <td>Afghanistán</td>\n",
       "      <td>2010</td>\n",
       "      <td>4.758381</td>\n",
       "      <td>7.386629</td>\n",
       "      <td>0.539075</td>\n",
       "      <td>51.599998</td>\n",
       "      <td>0.600127</td>\n",
       "      <td>0.134353</td>\n",
       "      <td>0.706766</td>\n",
       "      <td>0.618265</td>\n",
       "      <td>0.275324</td>\n",
       "      <td>0.299357</td>\n",
       "      <td>-1.991810</td>\n",
       "      <td>-1.617176</td>\n",
       "      <td>1.878622</td>\n",
       "      <td>NaN</td>\n",
       "      <td>NaN</td>\n",
       "    </tr>\n",
       "    <tr>\n",
       "      <th>3</th>\n",
       "      <td>Afghanistán</td>\n",
       "      <td>2011</td>\n",
       "      <td>3.831719</td>\n",
       "      <td>7.415019</td>\n",
       "      <td>0.521104</td>\n",
       "      <td>51.919998</td>\n",
       "      <td>0.495901</td>\n",
       "      <td>0.172137</td>\n",
       "      <td>0.731109</td>\n",
       "      <td>0.611387</td>\n",
       "      <td>0.267175</td>\n",
       "      <td>0.307386</td>\n",
       "      <td>-1.919018</td>\n",
       "      <td>-1.616221</td>\n",
       "      <td>1.785360</td>\n",
       "      <td>NaN</td>\n",
       "      <td>NaN</td>\n",
       "    </tr>\n",
       "    <tr>\n",
       "      <th>4</th>\n",
       "      <td>Afghanistán</td>\n",
       "      <td>2012</td>\n",
       "      <td>3.782938</td>\n",
       "      <td>7.517126</td>\n",
       "      <td>0.520637</td>\n",
       "      <td>52.240002</td>\n",
       "      <td>0.530935</td>\n",
       "      <td>0.244273</td>\n",
       "      <td>0.775620</td>\n",
       "      <td>0.710385</td>\n",
       "      <td>0.267919</td>\n",
       "      <td>0.435440</td>\n",
       "      <td>-1.842996</td>\n",
       "      <td>-1.404078</td>\n",
       "      <td>1.798283</td>\n",
       "      <td>NaN</td>\n",
       "      <td>NaN</td>\n",
       "    </tr>\n",
       "    <tr>\n",
       "      <th>5</th>\n",
       "      <td>Afghanistán</td>\n",
       "      <td>2013</td>\n",
       "      <td>3.572100</td>\n",
       "      <td>7.522238</td>\n",
       "      <td>0.483552</td>\n",
       "      <td>52.560001</td>\n",
       "      <td>0.577955</td>\n",
       "      <td>0.070403</td>\n",
       "      <td>0.823204</td>\n",
       "      <td>0.620585</td>\n",
       "      <td>0.273328</td>\n",
       "      <td>0.482847</td>\n",
       "      <td>-1.879709</td>\n",
       "      <td>-1.403036</td>\n",
       "      <td>1.223690</td>\n",
       "      <td>NaN</td>\n",
       "      <td>NaN</td>\n",
       "    </tr>\n",
       "    <tr>\n",
       "      <th>6</th>\n",
       "      <td>Afghanistán</td>\n",
       "      <td>2014</td>\n",
       "      <td>3.130896</td>\n",
       "      <td>7.516955</td>\n",
       "      <td>0.525568</td>\n",
       "      <td>52.880001</td>\n",
       "      <td>0.508514</td>\n",
       "      <td>0.113184</td>\n",
       "      <td>0.871242</td>\n",
       "      <td>0.531691</td>\n",
       "      <td>0.374861</td>\n",
       "      <td>0.409048</td>\n",
       "      <td>-1.773257</td>\n",
       "      <td>-1.312503</td>\n",
       "      <td>1.395396</td>\n",
       "      <td>NaN</td>\n",
       "      <td>NaN</td>\n",
       "    </tr>\n",
       "    <tr>\n",
       "      <th>7</th>\n",
       "      <td>Afghanistán</td>\n",
       "      <td>2015</td>\n",
       "      <td>3.982855</td>\n",
       "      <td>7.500539</td>\n",
       "      <td>0.528597</td>\n",
       "      <td>53.200001</td>\n",
       "      <td>0.388928</td>\n",
       "      <td>0.089091</td>\n",
       "      <td>0.880638</td>\n",
       "      <td>0.553553</td>\n",
       "      <td>0.339276</td>\n",
       "      <td>0.260557</td>\n",
       "      <td>-1.844364</td>\n",
       "      <td>-1.291594</td>\n",
       "      <td>2.160618</td>\n",
       "      <td>NaN</td>\n",
       "      <td>NaN</td>\n",
       "    </tr>\n",
       "  </tbody>\n",
       "</table>\n",
       "</div>"
      ],
      "text/plain": [
       "          pais  anio  escalera_vida   log_pib  soporte_social  \\\n",
       "0  Afghanistán  2008       3.723590  7.168690        0.450662   \n",
       "1  Afghanistán  2009       4.401778  7.333790        0.552308   \n",
       "2  Afghanistán  2010       4.758381  7.386629        0.539075   \n",
       "3  Afghanistán  2011       3.831719  7.415019        0.521104   \n",
       "4  Afghanistán  2012       3.782938  7.517126        0.520637   \n",
       "5  Afghanistán  2013       3.572100  7.522238        0.483552   \n",
       "6  Afghanistán  2014       3.130896  7.516955        0.525568   \n",
       "7  Afghanistán  2015       3.982855  7.500539        0.528597   \n",
       "\n",
       "   expectativa_vida  libertad  generosidad  percepcion_corrupcion  \\\n",
       "0         50.799999  0.718114     0.177889               0.881686   \n",
       "1         51.200001  0.678896     0.200178               0.850035   \n",
       "2         51.599998  0.600127     0.134353               0.706766   \n",
       "3         51.919998  0.495901     0.172137               0.731109   \n",
       "4         52.240002  0.530935     0.244273               0.775620   \n",
       "5         52.560001  0.577955     0.070403               0.823204   \n",
       "6         52.880001  0.508514     0.113184               0.871242   \n",
       "7         53.200001  0.388928     0.089091               0.880638   \n",
       "\n",
       "   afecto_positivo  afecto_negativo  confianza  calidad_democracia  \\\n",
       "0         0.517637         0.258195   0.612072           -1.929690   \n",
       "1         0.583926         0.237092   0.611545           -2.044093   \n",
       "2         0.618265         0.275324   0.299357           -1.991810   \n",
       "3         0.611387         0.267175   0.307386           -1.919018   \n",
       "4         0.710385         0.267919   0.435440           -1.842996   \n",
       "5         0.620585         0.273328   0.482847           -1.879709   \n",
       "6         0.531691         0.374861   0.409048           -1.773257   \n",
       "7         0.553553         0.339276   0.260557           -1.844364   \n",
       "\n",
       "   calidad_entrega  de_escalera_pais_anio  gini_banco_mundial  \\\n",
       "0        -1.655084               1.774662                 NaN   \n",
       "1        -1.635025               1.722688                 NaN   \n",
       "2        -1.617176               1.878622                 NaN   \n",
       "3        -1.616221               1.785360                 NaN   \n",
       "4        -1.404078               1.798283                 NaN   \n",
       "5        -1.403036               1.223690                 NaN   \n",
       "6        -1.312503               1.395396                 NaN   \n",
       "7        -1.291594               2.160618                 NaN   \n",
       "\n",
       "   gini_banco_mundial_promedio  \n",
       "0                          NaN  \n",
       "1                          NaN  \n",
       "2                          NaN  \n",
       "3                          NaN  \n",
       "4                          NaN  \n",
       "5                          NaN  \n",
       "6                          NaN  \n",
       "7                          NaN  "
      ]
     },
     "execution_count": 7,
     "metadata": {},
     "output_type": "execute_result"
    }
   ],
   "source": [
    "felicidad=pd.read_csv('https://raw.githubusercontent.com/cienciadedatos/datos-de-miercoles/master/datos/2019/2019-08-07/felicidad.csv'\n",
    "                    )\n",
    "felicidad.head(8)"
   ]
  },
  {
   "cell_type": "code",
   "execution_count": 6,
   "id": "e646e941-3777-458c-bd1e-fb829d74ef35",
   "metadata": {
    "tags": []
   },
   "outputs": [
    {
     "name": "stdout",
     "output_type": "stream",
     "text": [
      "<class 'pandas.core.frame.DataFrame'>\n",
      "RangeIndex: 1704 entries, 0 to 1703\n",
      "Data columns (total 17 columns):\n",
      " #   Column                       Non-Null Count  Dtype  \n",
      "---  ------                       --------------  -----  \n",
      " 0   pais                         1704 non-null   object \n",
      " 1   anio                         1704 non-null   int64  \n",
      " 2   escalera_vida                1704 non-null   float64\n",
      " 3   log_pib                      1676 non-null   float64\n",
      " 4   soporte_social               1691 non-null   float64\n",
      " 5   expectativa_vida             1676 non-null   float64\n",
      " 6   libertad                     1675 non-null   float64\n",
      " 7   generosidad                  1622 non-null   float64\n",
      " 8   percepcion_corrupcion        1608 non-null   float64\n",
      " 9   afecto_positivo              1685 non-null   float64\n",
      " 10  afecto_negativo              1691 non-null   float64\n",
      " 11  confianza                    1530 non-null   float64\n",
      " 12  calidad_democracia           1558 non-null   float64\n",
      " 13  calidad_entrega              1559 non-null   float64\n",
      " 14  de_escalera_pais_anio        1704 non-null   float64\n",
      " 15  gini_banco_mundial           643 non-null    float64\n",
      " 16  gini_banco_mundial_promedio  1502 non-null   float64\n",
      "dtypes: float64(15), int64(1), object(1)\n",
      "memory usage: 226.4+ KB\n"
     ]
    }
   ],
   "source": [
    "felicidad.info()"
   ]
  },
  {
   "cell_type": "code",
   "execution_count": null,
   "id": "c4d4de5b-3442-4461-887e-f18c2d523ef8",
   "metadata": {
    "tags": []
   },
   "outputs": [],
   "source": []
  },
  {
   "cell_type": "markdown",
   "id": "c36583d8-0a40-4b80-a146-8f02a9f42291",
   "metadata": {},
   "source": [
    "### Rango de datos en la varibale año"
   ]
  },
  {
   "cell_type": "code",
   "execution_count": 28,
   "id": "25546f10-754d-477f-a61a-5a3d2cda25c4",
   "metadata": {
    "tags": []
   },
   "outputs": [
    {
     "name": "stdout",
     "output_type": "stream",
     "text": [
      "El set de datos sobre felicidad muestra una conjunto de variables tomadas entre los años 2005 y 2018\n"
     ]
    }
   ],
   "source": [
    "print(\"El set de datos sobre felicidad muestra una conjunto de variables tomadas entre los años\",  felicidad.anio.min(), \"y\",felicidad.anio.max())"
   ]
  },
  {
   "cell_type": "markdown",
   "id": "f65281c7-1e10-40a0-b82d-8c937d1f39b4",
   "metadata": {},
   "source": [
    "### Medidas de tendencia central para el primer y ultimo año de la base de datos."
   ]
  },
  {
   "cell_type": "markdown",
   "id": "75358057-c779-4936-84f0-7c0024f925cc",
   "metadata": {},
   "source": [
    "### 2005"
   ]
  },
  {
   "cell_type": "code",
   "execution_count": 116,
   "id": "38c3916f-47ea-4762-b091-feb0165bd1ed",
   "metadata": {
    "tags": []
   },
   "outputs": [],
   "source": [
    "mean2005=felicidad[felicidad['anio']==2005]['escalera_vida'].mean()\n",
    "\n",
    "std2005=felicidad[felicidad['anio']==2005]['escalera_vida'].std()"
   ]
  },
  {
   "cell_type": "code",
   "execution_count": 117,
   "id": "eedd13bb-6c66-4030-b2fb-3bf1f3c40254",
   "metadata": {
    "tags": []
   },
   "outputs": [
    {
     "name": "stdout",
     "output_type": "stream",
     "text": [
      "Para el año 2005 el promedio de felicidad es de 6.446164272449635  y una desviacion estandar de 0.9191426322726483\n"
     ]
    }
   ],
   "source": [
    "print( \"Para el año 2005 el promedio de felicidad es de\", mean2005, \" y una desviacion estandar de\", std2005) "
   ]
  },
  {
   "cell_type": "code",
   "execution_count": 53,
   "id": "32ae6de0-3683-4802-a745-deef4bd31d60",
   "metadata": {
    "tags": []
   },
   "outputs": [
    {
     "name": "stdout",
     "output_type": "stream",
     "text": [
      "8.01893424987793\n",
      "4.718733787536621\n"
     ]
    }
   ],
   "source": [
    "print(felicidad[felicidad['anio']==2005]['escalera_vida'].max())\n",
    "print(felicidad[felicidad['anio']==2005]['escalera_vida'].min())"
   ]
  },
  {
   "cell_type": "markdown",
   "id": "90300952-5514-4d39-a853-aae889ff892e",
   "metadata": {},
   "source": [
    "### 2018"
   ]
  },
  {
   "cell_type": "code",
   "execution_count": 118,
   "id": "73e27382-9d19-4bf0-b3ee-8d3e08a6800c",
   "metadata": {
    "tags": []
   },
   "outputs": [],
   "source": [
    "mean2018=felicidad[felicidad['anio']==2018]['escalera_vida'].mean()\n",
    "\n",
    "std2018=felicidad[felicidad['anio']==2018]['escalera_vida'].std()"
   ]
  },
  {
   "cell_type": "code",
   "execution_count": 119,
   "id": "6caf7f54-d0ed-4315-91b3-46e599cf76a0",
   "metadata": {
    "tags": []
   },
   "outputs": [
    {
     "name": "stdout",
     "output_type": "stream",
     "text": [
      "Para el año 2005 el promedio de felicidad es de 5.502134340650895  y una desviacion estandar de 1.1034612436939357\n"
     ]
    }
   ],
   "source": [
    "print( \"Para el año 2005 el promedio de felicidad es de\", mean2018, \" y una desviacion estandar de\", std2018) "
   ]
  },
  {
   "cell_type": "code",
   "execution_count": 54,
   "id": "ffe2b1fb-15fa-4de5-9a13-acbb3a42dc09",
   "metadata": {
    "tags": []
   },
   "outputs": [
    {
     "name": "stdout",
     "output_type": "stream",
     "text": [
      "7.858107089996338\n",
      "2.694303274154663\n"
     ]
    }
   ],
   "source": [
    "print(felicidad[felicidad['anio']==2018]['escalera_vida'].max())\n",
    "print(felicidad[felicidad['anio']==2018]['escalera_vida'].min())"
   ]
  },
  {
   "cell_type": "markdown",
   "id": "2e859840-4961-45da-9362-4b2e5132a0b0",
   "metadata": {},
   "source": [
    "De acuerdo con los datos existente se puede decir que el grado de felicidad a nivel global era mayor en el año 2005 que en el año 2018. Si adicional observamos los valore maximos y minimos de la escalera de vida podemos agregar que en el año 2005 la media se econtraba mas centrada que en el año 2018 que presenta una ligera inclinacion hacia el valor máximo. De la misma manera los datos en el año 2018 se encuentran mas dispersos que en el año 2005. Esto puede ser resultado de la inclusion de mas paises en la muestra. como se observa en la siguiente tabla."
   ]
  },
  {
   "cell_type": "code",
   "execution_count": 55,
   "id": "b327d35f-2f62-4600-9f39-83d36591bb4e",
   "metadata": {
    "tags": []
   },
   "outputs": [
    {
     "data": {
      "text/plain": [
       "anio\n",
       "2005     27\n",
       "2006     89\n",
       "2007    102\n",
       "2008    110\n",
       "2009    114\n",
       "2010    124\n",
       "2011    146\n",
       "2012    142\n",
       "2013    137\n",
       "2014    145\n",
       "2015    143\n",
       "2016    142\n",
       "2017    147\n",
       "2018    136\n",
       "Name: pais, dtype: int64"
      ]
     },
     "execution_count": 55,
     "metadata": {},
     "output_type": "execute_result"
    }
   ],
   "source": [
    "felicidad. groupby('anio')['pais'].count()"
   ]
  },
  {
   "cell_type": "markdown",
   "id": "80cdeb8b-48bc-41e3-94be-b3163650048c",
   "metadata": {},
   "source": [
    "Mientras que en el 2005 se recogen datos para 27 paises en el 2018 el numeo de paises aumenta a 136 que es aproximadamente 4 veces el valor incial. Por esto la comparacion del promedio de felicidad para el primer y ultimo año puede tener sesgo."
   ]
  },
  {
   "cell_type": "markdown",
   "id": "c2df7f39-f1d5-4b1f-94b4-4b5bba8fbcf5",
   "metadata": {},
   "source": [
    "### Comparación de valores a nivel mundial con dos países de su elección en el primer año reportado y el último año reportado."
   ]
  },
  {
   "cell_type": "code",
   "execution_count": 107,
   "id": "561aea1c-cc69-45d7-9569-03e68a0bb0dc",
   "metadata": {
    "tags": []
   },
   "outputs": [],
   "source": [
    "paises2=felicidad[(felicidad['anio']==2005) | (felicidad['anio']==2018)].sort_values(by='anio').groupby('pais')['pais'].count()==2"
   ]
  },
  {
   "cell_type": "code",
   "execution_count": 109,
   "id": "9852ca24-582c-4a1c-a295-79b9fdf1458d",
   "metadata": {
    "tags": []
   },
   "outputs": [
    {
     "data": {
      "text/plain": [
       "pais\n",
       "Alemania           True\n",
       "Arabia Saudita     True\n",
       "Australia          True\n",
       "Brasil             True\n",
       "Bélgica            True\n",
       "Canadá             True\n",
       "Dinamarca          True\n",
       "Egipto             True\n",
       "España             True\n",
       "Francia            True\n",
       "Greece             True\n",
       "Iran               True\n",
       "Italia             True\n",
       "Japón              True\n",
       "Jordania           True\n",
       "Líbano             True\n",
       "México             True\n",
       "Nigeria            True\n",
       "Pakistan           True\n",
       "Países Bajos       True\n",
       "Reino Unido        True\n",
       "República Checa    True\n",
       "Rumania            True\n",
       "Suecia             True\n",
       "Turquía            True\n",
       "Venezuela          True\n",
       "Name: pais, dtype: bool"
      ]
     },
     "execution_count": 109,
     "metadata": {},
     "output_type": "execute_result"
    }
   ],
   "source": [
    "paises2[paises2==True]"
   ]
  },
  {
   "cell_type": "markdown",
   "id": "6ad896e8-2064-4427-ad20-b7e5772e25d9",
   "metadata": {},
   "source": [
    "Se eligen los paises de España y Mexico."
   ]
  },
  {
   "cell_type": "markdown",
   "id": "069055a0-f269-484a-a611-477c7264dab9",
   "metadata": {},
   "source": [
    "### Acceso a la información de la felicidad del primer y último año para los dos países"
   ]
  },
  {
   "cell_type": "markdown",
   "id": "ab5bbee7-640f-4cac-8d96-ec539973d4a1",
   "metadata": {
    "tags": []
   },
   "source": [
    "### España 2005 y 2018\n"
   ]
  },
  {
   "cell_type": "code",
   "execution_count": 133,
   "id": "ad675171-f805-4b7a-a408-9ec63941f3a8",
   "metadata": {
    "tags": []
   },
   "outputs": [
    {
     "data": {
      "text/html": [
       "<div>\n",
       "<style scoped>\n",
       "    .dataframe tbody tr th:only-of-type {\n",
       "        vertical-align: middle;\n",
       "    }\n",
       "\n",
       "    .dataframe tbody tr th {\n",
       "        vertical-align: top;\n",
       "    }\n",
       "\n",
       "    .dataframe thead th {\n",
       "        text-align: right;\n",
       "    }\n",
       "</style>\n",
       "<table border=\"1\" class=\"dataframe\">\n",
       "  <thead>\n",
       "    <tr style=\"text-align: right;\">\n",
       "      <th></th>\n",
       "      <th>pais</th>\n",
       "      <th>anio</th>\n",
       "      <th>escalera_vida</th>\n",
       "      <th>log_pib</th>\n",
       "      <th>soporte_social</th>\n",
       "      <th>expectativa_vida</th>\n",
       "      <th>libertad</th>\n",
       "      <th>generosidad</th>\n",
       "      <th>percepcion_corrupcion</th>\n",
       "      <th>afecto_positivo</th>\n",
       "      <th>afecto_negativo</th>\n",
       "      <th>confianza</th>\n",
       "      <th>calidad_democracia</th>\n",
       "      <th>calidad_entrega</th>\n",
       "      <th>de_escalera_pais_anio</th>\n",
       "      <th>gini_banco_mundial</th>\n",
       "      <th>gini_banco_mundial_promedio</th>\n",
       "    </tr>\n",
       "  </thead>\n",
       "  <tbody>\n",
       "    <tr>\n",
       "      <th>1399</th>\n",
       "      <td>España</td>\n",
       "      <td>2005</td>\n",
       "      <td>7.152786</td>\n",
       "      <td>10.401288</td>\n",
       "      <td>0.961043</td>\n",
       "      <td>71.500000</td>\n",
       "      <td>0.916165</td>\n",
       "      <td>NaN</td>\n",
       "      <td>0.777272</td>\n",
       "      <td>0.775784</td>\n",
       "      <td>0.240643</td>\n",
       "      <td>0.527846</td>\n",
       "      <td>0.663309</td>\n",
       "      <td>1.319199</td>\n",
       "      <td>1.724895</td>\n",
       "      <td>0.324</td>\n",
       "      <td>0.345385</td>\n",
       "    </tr>\n",
       "    <tr>\n",
       "      <th>1411</th>\n",
       "      <td>España</td>\n",
       "      <td>2018</td>\n",
       "      <td>6.513371</td>\n",
       "      <td>10.465594</td>\n",
       "      <td>0.910315</td>\n",
       "      <td>74.400002</td>\n",
       "      <td>0.722251</td>\n",
       "      <td>-0.079351</td>\n",
       "      <td>0.776504</td>\n",
       "      <td>0.659188</td>\n",
       "      <td>0.357191</td>\n",
       "      <td>0.285196</td>\n",
       "      <td>NaN</td>\n",
       "      <td>NaN</td>\n",
       "      <td>1.667077</td>\n",
       "      <td>NaN</td>\n",
       "      <td>0.345385</td>\n",
       "    </tr>\n",
       "  </tbody>\n",
       "</table>\n",
       "</div>"
      ],
      "text/plain": [
       "        pais  anio  escalera_vida    log_pib  soporte_social  \\\n",
       "1399  España  2005       7.152786  10.401288        0.961043   \n",
       "1411  España  2018       6.513371  10.465594        0.910315   \n",
       "\n",
       "      expectativa_vida  libertad  generosidad  percepcion_corrupcion  \\\n",
       "1399         71.500000  0.916165          NaN               0.777272   \n",
       "1411         74.400002  0.722251    -0.079351               0.776504   \n",
       "\n",
       "      afecto_positivo  afecto_negativo  confianza  calidad_democracia  \\\n",
       "1399         0.775784         0.240643   0.527846            0.663309   \n",
       "1411         0.659188         0.357191   0.285196                 NaN   \n",
       "\n",
       "      calidad_entrega  de_escalera_pais_anio  gini_banco_mundial  \\\n",
       "1399         1.319199               1.724895               0.324   \n",
       "1411              NaN               1.667077                 NaN   \n",
       "\n",
       "      gini_banco_mundial_promedio  \n",
       "1399                     0.345385  \n",
       "1411                     0.345385  "
      ]
     },
     "execution_count": 133,
     "metadata": {},
     "output_type": "execute_result"
    }
   ],
   "source": [
    "españa=felicidad[(felicidad['anio']==2005) | (felicidad['anio']==2018)]\n",
    "españa=españa[españa['pais']=='España']\n",
    "españa"
   ]
  },
  {
   "cell_type": "markdown",
   "id": "d483821f-60c3-45a8-aa73-0be623dd94eb",
   "metadata": {},
   "source": [
    "### Mexico 2005 y 2018"
   ]
  },
  {
   "cell_type": "code",
   "execution_count": 135,
   "id": "fbb823aa-bd96-4166-8020-3183cac7a261",
   "metadata": {
    "tags": []
   },
   "outputs": [
    {
     "data": {
      "text/html": [
       "<div>\n",
       "<style scoped>\n",
       "    .dataframe tbody tr th:only-of-type {\n",
       "        vertical-align: middle;\n",
       "    }\n",
       "\n",
       "    .dataframe tbody tr th {\n",
       "        vertical-align: top;\n",
       "    }\n",
       "\n",
       "    .dataframe thead th {\n",
       "        text-align: right;\n",
       "    }\n",
       "</style>\n",
       "<table border=\"1\" class=\"dataframe\">\n",
       "  <thead>\n",
       "    <tr style=\"text-align: right;\">\n",
       "      <th></th>\n",
       "      <th>pais</th>\n",
       "      <th>anio</th>\n",
       "      <th>escalera_vida</th>\n",
       "      <th>log_pib</th>\n",
       "      <th>soporte_social</th>\n",
       "      <th>expectativa_vida</th>\n",
       "      <th>libertad</th>\n",
       "      <th>generosidad</th>\n",
       "      <th>percepcion_corrupcion</th>\n",
       "      <th>afecto_positivo</th>\n",
       "      <th>afecto_negativo</th>\n",
       "      <th>confianza</th>\n",
       "      <th>calidad_democracia</th>\n",
       "      <th>calidad_entrega</th>\n",
       "      <th>de_escalera_pais_anio</th>\n",
       "      <th>gini_banco_mundial</th>\n",
       "      <th>gini_banco_mundial_promedio</th>\n",
       "    </tr>\n",
       "  </thead>\n",
       "  <tbody>\n",
       "    <tr>\n",
       "      <th>978</th>\n",
       "      <td>México</td>\n",
       "      <td>2005</td>\n",
       "      <td>6.580658</td>\n",
       "      <td>9.667230</td>\n",
       "      <td>0.902808</td>\n",
       "      <td>66.199997</td>\n",
       "      <td>0.813745</td>\n",
       "      <td>NaN</td>\n",
       "      <td>0.764249</td>\n",
       "      <td>0.819803</td>\n",
       "      <td>0.218943</td>\n",
       "      <td>0.426359</td>\n",
       "      <td>-0.124936</td>\n",
       "      <td>-0.088847</td>\n",
       "      <td>2.235451</td>\n",
       "      <td>0.489</td>\n",
       "      <td>0.4698</td>\n",
       "    </tr>\n",
       "    <tr>\n",
       "      <th>990</th>\n",
       "      <td>México</td>\n",
       "      <td>2018</td>\n",
       "      <td>6.549579</td>\n",
       "      <td>9.769919</td>\n",
       "      <td>0.858069</td>\n",
       "      <td>68.300003</td>\n",
       "      <td>0.816200</td>\n",
       "      <td>-0.181818</td>\n",
       "      <td>0.808638</td>\n",
       "      <td>0.881713</td>\n",
       "      <td>0.213254</td>\n",
       "      <td>0.294568</td>\n",
       "      <td>NaN</td>\n",
       "      <td>NaN</td>\n",
       "      <td>2.326330</td>\n",
       "      <td>NaN</td>\n",
       "      <td>0.4698</td>\n",
       "    </tr>\n",
       "  </tbody>\n",
       "</table>\n",
       "</div>"
      ],
      "text/plain": [
       "       pais  anio  escalera_vida   log_pib  soporte_social  expectativa_vida  \\\n",
       "978  México  2005       6.580658  9.667230        0.902808         66.199997   \n",
       "990  México  2018       6.549579  9.769919        0.858069         68.300003   \n",
       "\n",
       "     libertad  generosidad  percepcion_corrupcion  afecto_positivo  \\\n",
       "978  0.813745          NaN               0.764249         0.819803   \n",
       "990  0.816200    -0.181818               0.808638         0.881713   \n",
       "\n",
       "     afecto_negativo  confianza  calidad_democracia  calidad_entrega  \\\n",
       "978         0.218943   0.426359           -0.124936        -0.088847   \n",
       "990         0.213254   0.294568                 NaN              NaN   \n",
       "\n",
       "     de_escalera_pais_anio  gini_banco_mundial  gini_banco_mundial_promedio  \n",
       "978               2.235451               0.489                       0.4698  \n",
       "990               2.326330                 NaN                       0.4698  "
      ]
     },
     "execution_count": 135,
     "metadata": {},
     "output_type": "execute_result"
    }
   ],
   "source": [
    "mexico=felicidad[(felicidad['anio']==2005) | (felicidad['anio']==2018)]\n",
    "mexico=mexico[mexico['pais']=='México']\n",
    "mexico"
   ]
  },
  {
   "cell_type": "code",
   "execution_count": 146,
   "id": "0926e170-1c1b-4951-a684-13574c1e1025",
   "metadata": {
    "tags": []
   },
   "outputs": [
    {
     "data": {
      "text/plain": [
       "array([6.58065796])"
      ]
     },
     "execution_count": 146,
     "metadata": {},
     "output_type": "execute_result"
    }
   ],
   "source": [
    "mexico[mexico['anio']==2005]['escalera_vida'].values"
   ]
  },
  {
   "cell_type": "markdown",
   "id": "b4dc24fc-db5f-4ed6-bf43-f7c9dbfa2f51",
   "metadata": {},
   "source": [
    "### Comparacion"
   ]
  },
  {
   "cell_type": "code",
   "execution_count": 154,
   "id": "14986ee2-6d7d-4a09-974c-f3ce0bce7fff",
   "metadata": {
    "tags": []
   },
   "outputs": [
    {
     "data": {
      "text/html": [
       "<div>\n",
       "<style scoped>\n",
       "    .dataframe tbody tr th:only-of-type {\n",
       "        vertical-align: middle;\n",
       "    }\n",
       "\n",
       "    .dataframe tbody tr th {\n",
       "        vertical-align: top;\n",
       "    }\n",
       "\n",
       "    .dataframe thead th {\n",
       "        text-align: right;\n",
       "    }\n",
       "</style>\n",
       "<table border=\"1\" class=\"dataframe\">\n",
       "  <thead>\n",
       "    <tr style=\"text-align: right;\">\n",
       "      <th></th>\n",
       "      <th>año</th>\n",
       "      <th>EC General</th>\n",
       "      <th>EV España</th>\n",
       "      <th>EV Mexico</th>\n",
       "    </tr>\n",
       "  </thead>\n",
       "  <tbody>\n",
       "    <tr>\n",
       "      <th>0</th>\n",
       "      <td>2005</td>\n",
       "      <td>6.446164</td>\n",
       "      <td>7.152786</td>\n",
       "      <td>6.580658</td>\n",
       "    </tr>\n",
       "    <tr>\n",
       "      <th>1</th>\n",
       "      <td>2018</td>\n",
       "      <td>5.502134</td>\n",
       "      <td>6.513371</td>\n",
       "      <td>6.549579</td>\n",
       "    </tr>\n",
       "  </tbody>\n",
       "</table>\n",
       "</div>"
      ],
      "text/plain": [
       "    año  EC General  EV España  EV Mexico\n",
       "0  2005    6.446164   7.152786   6.580658\n",
       "1  2018    5.502134   6.513371   6.549579"
      ]
     },
     "execution_count": 154,
     "metadata": {},
     "output_type": "execute_result"
    }
   ],
   "source": [
    "comp=pd.DataFrame({'año':[2005,2018],\n",
    "                   'EC General':[mean2005, mean2018],\n",
    "                   'EV España':[españa[españa['anio']==2005]['escalera_vida'].values[0], \n",
    "                                españa[españa['anio']==2018]['escalera_vida'].values[0]], \n",
    "                   'EV Mexico':[mexico[mexico['anio']==2005]['escalera_vida'].values[0], \n",
    "                                mexico[mexico['anio']==2018]['escalera_vida'].values[0]]})\n",
    "comp"
   ]
  },
  {
   "cell_type": "markdown",
   "id": "062bfdba-f83a-4b33-b950-ca50e6fc8b73",
   "metadata": {
    "tags": []
   },
   "source": [
    "### Interpretacion"
   ]
  },
  {
   "cell_type": "markdown",
   "id": "e8b81981-406a-4fa5-957c-bf07d952dab2",
   "metadata": {},
   "source": [
    "* De acuerdo con la tabla resumen se puede evidenciar que en el año 2005 tanto Mexico como España se encontraban sobre el nivel de felicidad global, no obstante España tiene un grado de felicidad superior al de Mexico. \n",
    "\n",
    "* En el año 2018 el comportamiento es similar ya que España y Mexico mantiene niveles de felicidad sobre el promedio global, en este caso se puede notar que el grado de felicidad de España con respecto a Mexico es ligeramente superior.\n",
    "\n",
    "* Por lo mencionado anteriormente podemos decir que a nivel global el grado de felicidad dismunuye entre el 2005 y el 2018 este comportamiento es heredado para el pais de España que presenta una disminision del grado de felicidad mucho mas marcado que la disminucion que se da en Mexico. "
   ]
  },
  {
   "cell_type": "code",
   "execution_count": null,
   "id": "eee64212-e434-48d2-9e7e-6aab403a84d8",
   "metadata": {},
   "outputs": [],
   "source": []
  }
 ],
 "metadata": {
  "kernelspec": {
   "display_name": "Python 3 (ipykernel)",
   "language": "python",
   "name": "python3"
  },
  "language_info": {
   "codemirror_mode": {
    "name": "ipython",
    "version": 3
   },
   "file_extension": ".py",
   "mimetype": "text/x-python",
   "name": "python",
   "nbconvert_exporter": "python",
   "pygments_lexer": "ipython3",
   "version": "3.11.3"
  },
  "widgets": {
   "application/vnd.jupyter.widget-state+json": {
    "state": {},
    "version_major": 2,
    "version_minor": 0
   }
  }
 },
 "nbformat": 4,
 "nbformat_minor": 5
}
