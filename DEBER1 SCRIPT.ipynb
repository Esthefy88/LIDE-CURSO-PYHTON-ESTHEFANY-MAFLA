{
 "cells": [
  {
   "cell_type": "markdown",
   "id": "fbf82638-74e5-4a25-a51e-93ccb4653251",
   "metadata": {
    "tags": []
   },
   "source": [
    "## PYTHON"
   ]
  },
  {
   "cell_type": "markdown",
   "id": "72828fe5-0c5c-4380-aea2-81ab270daf2b",
   "metadata": {
    "tags": []
   },
   "source": [
    "### Deber N° 1"
   ]
  },
  {
   "cell_type": "markdown",
   "id": "427ce4eb-38ca-4e4d-ac8e-53f0ad08c3db",
   "metadata": {
    "tags": []
   },
   "source": [
    "A. Cargue un paquete de su elección - Recuerden que debe estar disponible en su ambiente\n"
   ]
  },
  {
   "cell_type": "code",
   "execution_count": null,
   "id": "4afd9e78-0cbd-4cce-934c-5f5f649e01b8",
   "metadata": {},
   "outputs": [],
   "source": [
    "import pandas as pd"
   ]
  },
  {
   "cell_type": "markdown",
   "id": "6fc1694e-ffb9-4034-b395-25034c066e5d",
   "metadata": {
    "tags": []
   },
   "source": [
    "B. Dos variables, una que contenga su nombre y la otra su edad"
   ]
  },
  {
   "cell_type": "code",
   "execution_count": 9,
   "id": "34b87b87-7318-4326-b7c2-4091f3e97d2e",
   "metadata": {
    "tags": []
   },
   "outputs": [],
   "source": [
    "nombre= \"Esthefany\"\n",
    "edad=25"
   ]
  },
  {
   "cell_type": "markdown",
   "id": "fde513dc-5478-4d8c-9ae1-b16da2230cf0",
   "metadata": {},
   "source": [
    "C. Crear una oración que indique su nombre y su edad utilizando las dos variables creadas en el paso anterior"
   ]
  },
  {
   "cell_type": "code",
   "execution_count": 13,
   "id": "85bfccc6-c2e6-4aa9-8241-2da9f5ee78df",
   "metadata": {
    "tags": []
   },
   "outputs": [
    {
     "name": "stdout",
     "output_type": "stream",
     "text": [
      "Hola! Mi nombre es Esthefany y tengo 25 años\n"
     ]
    }
   ],
   "source": [
    "print(\"Hola! Mi nombre es\", nombre, \"y tengo\", edad , \"años\")"
   ]
  },
  {
   "cell_type": "code",
   "execution_count": null,
   "id": "3f86a970-18e7-4646-87d8-9d588126ad07",
   "metadata": {},
   "outputs": [],
   "source": []
  }
 ],
 "metadata": {
  "kernelspec": {
   "display_name": "Python 3 (ipykernel)",
   "language": "python",
   "name": "python3"
  },
  "language_info": {
   "codemirror_mode": {
    "name": "ipython",
    "version": 3
   },
   "file_extension": ".py",
   "mimetype": "text/x-python",
   "name": "python",
   "nbconvert_exporter": "python",
   "pygments_lexer": "ipython3",
   "version": "3.11.3"
  },
  "widgets": {
   "application/vnd.jupyter.widget-state+json": {
    "state": {},
    "version_major": 2,
    "version_minor": 0
   }
  }
 },
 "nbformat": 4,
 "nbformat_minor": 5
}
